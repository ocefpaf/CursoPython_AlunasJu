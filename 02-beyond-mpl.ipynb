{
 "cells": [
  {
   "cell_type": "markdown",
   "metadata": {},
   "source": [
    "# Existem muitas alternativas ao modelo imperativo do matplotlib\n",
    "\n",
    "## \"facilitações\" em cima do modelo imperativo:\n",
    "\n",
    "- pandas plotting\n",
    "- hvplot (figuras interativas do modo fácil)\n",
    "- bokeh (figuras interativas do modo difícil)\n",
    "\n",
    "## modelo declarativo\n",
    "\n",
    "- altair\n",
    "- seaborn"
   ]
  },
  {
   "cell_type": "markdown",
   "metadata": {},
   "source": [
    "## pandas"
   ]
  },
  {
   "cell_type": "code",
   "execution_count": null,
   "metadata": {},
   "outputs": [],
   "source": [
    "from pathlib import Path\n",
    "import pandas as pd\n",
    "\n",
    "fname = Path('data', 'dados_pirata.csv')\n",
    "pd.read_csv(fname).head()"
   ]
  },
  {
   "cell_type": "code",
   "execution_count": null,
   "metadata": {},
   "outputs": [],
   "source": [
    "df = pd.read_csv(\n",
    "    fname,\n",
    "    index_col='datahora',\n",
    "    na_values=-99999,\n",
    "    parse_dates=True,\n",
    ").drop('Unnamed: 0', axis=1)\n",
    "\n",
    "df.tail()"
   ]
  },
  {
   "cell_type": "code",
   "execution_count": null,
   "metadata": {},
   "outputs": [],
   "source": [
    "df.columns = [\n",
    "    '{0:0>3}'.format(col.split('_')[1]) for col in df.columns\n",
    "]\n",
    "\n",
    "df.sort_index(axis=1, inplace=True)\n",
    "df.head()"
   ]
  },
  {
   "cell_type": "code",
   "execution_count": null,
   "metadata": {},
   "outputs": [],
   "source": [
    "desc = df.describe()\n",
    "desc"
   ]
  },
  {
   "cell_type": "code",
   "execution_count": null,
   "metadata": {},
   "outputs": [],
   "source": [
    "desc.loc['std'] ** 2"
   ]
  },
  {
   "cell_type": "code",
   "execution_count": null,
   "metadata": {},
   "outputs": [],
   "source": [
    "%matplotlib inline\n",
    "\n",
    "\n",
    "ax = df[['001', '100', '180', '500']].plot()"
   ]
  },
  {
   "cell_type": "code",
   "execution_count": null,
   "metadata": {},
   "outputs": [],
   "source": [
    "df['001'].interpolate().plot()\n",
    "df['001'].plot();"
   ]
  },
  {
   "cell_type": "code",
   "execution_count": null,
   "metadata": {},
   "outputs": [],
   "source": [
    "df['001'].interpolate(method='time', limit=10).plot()\n",
    "df['001'].plot();"
   ]
  },
  {
   "cell_type": "code",
   "execution_count": null,
   "metadata": {},
   "outputs": [],
   "source": [
    "import numpy as np\n",
    "import matplotlib.pyplot as plt\n",
    "\n",
    "fig, ax = plt.subplots(figsize=(9, 5))\n",
    "r = df.resample(rule='M')\n",
    "r.median().plot(ax=ax)"
   ]
  },
  {
   "cell_type": "code",
   "execution_count": null,
   "metadata": {},
   "outputs": [],
   "source": [
    "key = lambda x: x.month\n",
    "\n",
    "grouped = df.groupby(key)\n",
    "\n",
    "monthly = grouped.mean()\n",
    "monthly.shape"
   ]
  },
  {
   "cell_type": "markdown",
   "metadata": {},
   "source": [
    "### hvplot"
   ]
  },
  {
   "cell_type": "code",
   "execution_count": null,
   "metadata": {},
   "outputs": [],
   "source": [
    "import hvplot.pandas\n",
    "\n",
    "\n",
    "monthly.hvplot()"
   ]
  },
  {
   "cell_type": "markdown",
   "metadata": {},
   "source": [
    "### bokeh"
   ]
  },
  {
   "cell_type": "code",
   "execution_count": null,
   "metadata": {},
   "outputs": [],
   "source": [
    "from bokeh.plotting import figure, show\n",
    "from bokeh.io import output_notebook\n",
    "\n",
    "\n",
    "x = [1, 2, 3, 4, 5]\n",
    "y = [6, 7, 2, 4, 5]\n",
    "\n",
    "p = figure(\n",
    "    title=\"simple line example\",\n",
    "    x_axis_label='x',\n",
    "    y_axis_label='y'\n",
    ")\n",
    "\n",
    "p.line(x, y, legend=\"Temp\", line_width=2)\n",
    "\n",
    "show(p)"
   ]
  },
  {
   "cell_type": "markdown",
   "metadata": {},
   "source": [
    "### seaborn"
   ]
  },
  {
   "cell_type": "code",
   "execution_count": null,
   "metadata": {},
   "outputs": [],
   "source": [
    "fname = Path('data', 'fish.csv')\n",
    "\n",
    "df = pd.read_csv(\n",
    "    fname,\n",
    "    na_values='NaN',\n",
    "    sep=',',\n",
    "    skipinitialspace=True,\n",
    ")\n",
    "\n",
    "df.head()"
   ]
  },
  {
   "cell_type": "code",
   "execution_count": null,
   "metadata": {},
   "outputs": [],
   "source": [
    "import seaborn\n",
    "\n",
    "\n",
    "kw = {\n",
    "    'axes.edgecolor': '0',\n",
    "    'text.color': '0',\n",
    "    'ytick.color': '0',\n",
    "    'xtick.color': '0',\n",
    "    'ytick.major.size': 5,\n",
    "    'xtick.major.size': 5,\n",
    "    'axes.labelcolor': '0'\n",
    "}\n",
    "\n",
    "seaborn.set_style('whitegrid', kw)"
   ]
  },
  {
   "cell_type": "code",
   "execution_count": null,
   "metadata": {},
   "outputs": [],
   "source": [
    "corr = df.corr()\n",
    "corr"
   ]
  },
  {
   "cell_type": "code",
   "execution_count": null,
   "metadata": {},
   "outputs": [],
   "source": [
    "mask = np.zeros_like(corr, dtype=np.bool)\n",
    "mask[np.triu_indices_from(mask)] = True"
   ]
  },
  {
   "cell_type": "code",
   "execution_count": null,
   "metadata": {},
   "outputs": [],
   "source": [
    "mask = np.zeros_like(corr, dtype=np.bool)\n",
    "mask[np.triu_indices_from(mask)] = True\n",
    "\n",
    "cmap = seaborn.diverging_palette(220, 10, as_cmap=True)\n",
    "\n",
    "seaborn.heatmap(\n",
    "    corr,\n",
    "    mask=mask,\n",
    "    cmap=cmap,\n",
    "    vmax=0.3,\n",
    "    center=0,\n",
    "    square=True,\n",
    "    linewidths=0.5,\n",
    "    cbar_kws={'shrink': 0.5}\n",
    ");"
   ]
  },
  {
   "cell_type": "code",
   "execution_count": null,
   "metadata": {},
   "outputs": [],
   "source": [
    "seaborn.jointplot('Days', 'BDE 99 (ng/g)', df, kind='reg');"
   ]
  },
  {
   "cell_type": "code",
   "execution_count": null,
   "metadata": {},
   "outputs": [],
   "source": [
    "seaborn.jointplot('Days', 'BDE 47 (ng/g)', df, kind='reg');"
   ]
  },
  {
   "cell_type": "code",
   "execution_count": null,
   "metadata": {},
   "outputs": [],
   "source": [
    "seaborn.residplot('Days', 'BDE 47 (ng/g)', df);"
   ]
  },
  {
   "cell_type": "markdown",
   "metadata": {},
   "source": [
    "### altair"
   ]
  },
  {
   "cell_type": "code",
   "execution_count": null,
   "metadata": {},
   "outputs": [],
   "source": [
    "from vega_datasets import data\n",
    "\n",
    "\n",
    "df = data.seattle_weather()\n",
    "df.head()"
   ]
  },
  {
   "cell_type": "code",
   "execution_count": null,
   "metadata": {},
   "outputs": [],
   "source": [
    "import altair\n",
    "\n",
    "\n",
    "altair.renderers.enable('notebook')\n",
    "\n",
    "altair.Chart(df).mark_tick().encode(\n",
    "    x='precipitation',\n",
    ").interactive()"
   ]
  },
  {
   "cell_type": "code",
   "execution_count": null,
   "metadata": {},
   "outputs": [],
   "source": [
    "altair.Chart(df).mark_bar().encode(\n",
    "    altair.X('precipitation', bin=True),\n",
    "    y='count()'\n",
    ").interactive()"
   ]
  },
  {
   "cell_type": "code",
   "execution_count": null,
   "metadata": {},
   "outputs": [],
   "source": [
    "altair.Chart(df).mark_line().encode(\n",
    "    x='month(date):T',\n",
    "    y='average(precipitation)'\n",
    ").interactive()"
   ]
  },
  {
   "cell_type": "code",
   "execution_count": null,
   "metadata": {},
   "outputs": [],
   "source": [
    "altair.Chart(df).mark_bar().encode(\n",
    "    x='month(date):N',\n",
    "    y='count()',\n",
    "    color='weather',\n",
    ")"
   ]
  },
  {
   "cell_type": "markdown",
   "metadata": {},
   "source": [
    "### windrose"
   ]
  },
  {
   "cell_type": "code",
   "execution_count": null,
   "metadata": {},
   "outputs": [],
   "source": [
    "import pandas as pd\n",
    "\n",
    "\n",
    "fname = Path('data', 'DD2018_DANIELAZANETTI3.xls')\n",
    "df = pd.read_excel(\n",
    "    fname,\n",
    "    skiprows=10,\n",
    ")\n",
    "\n",
    "df.head(n=10)"
   ]
  },
  {
   "cell_type": "code",
   "execution_count": null,
   "metadata": {},
   "outputs": [],
   "source": [
    "lat, lon = (\n",
    "    df.iloc[1, 1].replace(',', '.'),\n",
    "    df.iloc[2, 1].replace(',', '.'),\n",
    ")\n",
    "\n",
    "lat, lon = map(float, (lat, lon))\n",
    "lat, lon"
   ]
  },
  {
   "cell_type": "code",
   "execution_count": null,
   "metadata": {},
   "outputs": [],
   "source": [
    "columns = df.iloc[3, :].values\n",
    "columns = [col.replace('Variável', 'data') for col in columns]\n",
    "df.columns = columns\n",
    "\n",
    "columns"
   ]
  },
  {
   "cell_type": "code",
   "execution_count": null,
   "metadata": {},
   "outputs": [],
   "source": [
    "direction = df.iloc[5:, 15:17].set_index('data')\n",
    "velocity = df.iloc[5:, 19:21].set_index('data')"
   ]
  },
  {
   "cell_type": "code",
   "execution_count": null,
   "metadata": {},
   "outputs": [],
   "source": [
    "df = pd.concat(\n",
    "    [direction.dropna(), velocity.dropna()],\n",
    "    sort=True, axis=1\n",
    ").dropna()\n",
    "\n",
    "df.columns = ['direction', 'velocity']\n",
    "df = df.apply(pd.to_numeric)\n",
    "\n",
    "kmh_to_ms = (60*60) / 1000\n",
    "df['velocity'] = df['velocity'] * kmh_to_ms\n",
    "\n",
    "df.head()"
   ]
  },
  {
   "cell_type": "code",
   "execution_count": null,
   "metadata": {},
   "outputs": [],
   "source": [
    "set(df.index.year), set(df.index.month)"
   ]
  },
  {
   "cell_type": "code",
   "execution_count": null,
   "metadata": {},
   "outputs": [],
   "source": [
    "months = {\n",
    "    str(month): group for month,\n",
    "    group in df.groupby(df.index.month)\n",
    "}\n",
    "\n",
    "months.keys()"
   ]
  },
  {
   "cell_type": "code",
   "execution_count": null,
   "metadata": {},
   "outputs": [],
   "source": [
    "months['1']"
   ]
  },
  {
   "cell_type": "code",
   "execution_count": null,
   "metadata": {},
   "outputs": [],
   "source": [
    "from windrose import WindroseAxes, WindAxes\n",
    "\n",
    "ax = WindAxes.from_ax()\n",
    "\n",
    "dez = '12'\n",
    "ax, params = ax.pdf(months[dez]['velocity'])"
   ]
  },
  {
   "cell_type": "code",
   "execution_count": null,
   "metadata": {},
   "outputs": [],
   "source": [
    "ax = WindroseAxes.from_ax()\n",
    "\n",
    "ax.bar(\n",
    "    months[dez]['direction'],\n",
    "    months[dez]['velocity'].values,\n",
    "    normed=True,\n",
    "    opening=0.8,\n",
    "    edgecolor='white',\n",
    ")\n",
    "ax.set_legend();"
   ]
  }
 ],
 "metadata": {
  "kernelspec": {
   "display_name": "Python 3",
   "language": "python",
   "name": "python3"
  },
  "language_info": {
   "codemirror_mode": {
    "name": "ipython",
    "version": 3
   },
   "file_extension": ".py",
   "mimetype": "text/x-python",
   "name": "python",
   "nbconvert_exporter": "python",
   "pygments_lexer": "ipython3",
   "version": "3.7.1"
  }
 },
 "nbformat": 4,
 "nbformat_minor": 2
}
