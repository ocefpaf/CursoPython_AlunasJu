{
 "cells": [
  {
   "cell_type": "code",
   "execution_count": null,
   "metadata": {},
   "outputs": [],
   "source": [
    "from pathlib import Path\n",
    "import pandas as pd\n",
    "\n",
    "\n",
    "kw = {\n",
    "    'skiprows': 4,\n",
    "    'na_values': 'NaN',\n",
    "    'sep': ',',\n",
    "    'skipinitialspace': True,\n",
    "    'index_col': 9,\n",
    "    'encoding': 'latin1'\n",
    "}\n",
    "\n",
    "\n",
    "dfs = {}\n",
    "p = Path('data')\n",
    "for fname in sorted(p.glob('Data_CoreC*.csv')):\n",
    "    print(fname)\n",
    "    idx = str(fname).lower().split('data_core')[-1].split('.')[0]\n",
    "    df = pd.read_csv(fname, **kw)\n",
    "    dfs.update({idx: df})"
   ]
  },
  {
   "cell_type": "code",
   "execution_count": null,
   "metadata": {},
   "outputs": [],
   "source": [
    "import numpy as np\n",
    "\n",
    "x, y = [], []\n",
    "\n",
    "for k, df in dfs.items():\n",
    "    x.extend(df['%C'].values)\n",
    "    y.extend(df['TOC'].values)\n",
    "\n",
    "carbon = pd.DataFrame(np.array([x, y]).T, columns=['%C', 'TOC']).dropna()\n",
    "\n",
    "carbon.head()"
   ]
  },
  {
   "cell_type": "code",
   "execution_count": null,
   "metadata": {},
   "outputs": [],
   "source": [
    "from sklearn import linear_model\n",
    "from sklearn.metrics import mean_squared_error, r2_score\n",
    "\n",
    "\n",
    "idx = carbon['TOC'].idxmax()\n",
    "carbon = carbon.drop(idx, axis=0)\n",
    "\n",
    "reg = linear_model.LinearRegression()\n",
    "\n",
    "y = carbon['TOC'].values\n",
    "x = carbon['%C'].values[:, None]\n",
    "\n",
    "reg.fit(x, y)\n",
    "y_pred = reg.predict(x)\n",
    "\n",
    "R2 = mean_squared_error(y, y_pred)\n",
    "var = r2_score(y, y_pred)"
   ]
  },
  {
   "cell_type": "code",
   "execution_count": null,
   "metadata": {
    "scrolled": false
   },
   "outputs": [],
   "source": [
    "%matplotlib inline\n",
    "\n",
    "import matplotlib.pyplot as plt\n",
    "import seaborn\n",
    "\n",
    "kw = {\n",
    "    'markersize': 8,\n",
    "    'alpha': 0.95,\n",
    "    'markeredgecolor': 'w',\n",
    "}\n",
    "\n",
    "glyph = {\n",
    "    'co1': {'marker': 'd', 'markerfacecolor': 'SaddleBrown'},\n",
    "    'co2': {'marker': 'o', 'markerfacecolor': 'MediumSeaGreen'},\n",
    "    'co4': {'marker': '^', 'markerfacecolor': 'OrangeRed'},\n",
    "    'co5': {'marker': 'p', 'markerfacecolor': 'DarkSlateBlue'},\n",
    "}\n",
    "\n",
    "\n",
    "fig, ax = plt.subplots(figsize=(7, 7))\n",
    "ax = seaborn.regplot(\n",
    "    x='%C', y='TOC',\n",
    "    data=carbon,\n",
    "    marker='d',\n",
    "    color='grey',\n",
    "    robust=True,\n",
    "    ax=ax,\n",
    ")\n",
    "\n",
    "\n",
    "for k, df in dfs.items():\n",
    "    ax.plot(\n",
    "        df['%C'], df['TOC'],\n",
    "        linestyle='none',\n",
    "        label=k.upper(),\n",
    "        **glyph[k],\n",
    "        **kw,\n",
    "        zorder=999\n",
    "    )\n",
    "    ax.set_xlabel('TOC_EA')\n",
    "    ax.set_ylabel('TOC_RE')\n",
    "\n",
    "leg = ax.legend(frameon=False)\n",
    "\n",
    "ax.text(\n",
    "    0.65, 0.90,\n",
    "    f'R² = {var:0.2f}',\n",
    "    transform=ax.transAxes);"
   ]
  }
 ],
 "metadata": {
  "kernelspec": {
   "display_name": "Python [conda env:IOOS]",
   "language": "python",
   "name": "conda-env-IOOS-py"
  },
  "language_info": {
   "codemirror_mode": {
    "name": "ipython",
    "version": 3
   },
   "file_extension": ".py",
   "mimetype": "text/x-python",
   "name": "python",
   "nbconvert_exporter": "python",
   "pygments_lexer": "ipython3",
   "version": "3.7.1"
  },
  "widgets": {
   "state": {},
   "version": "1.1.2"
  }
 },
 "nbformat": 4,
 "nbformat_minor": 1
}
