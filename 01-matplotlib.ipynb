{
 "cells": [
  {
   "cell_type": "markdown",
   "metadata": {
    "slideshow": {
     "slide_type": "slide"
    }
   },
   "source": [
    "# Aula 01 - [Matplotlib](http://matplotlib.org/)\n",
    "\n",
    "\n",
    "## Sumário\n",
    "\n",
    "- Aula: 40 min\n",
    "- Exercícios: 20 min\n",
    "\n",
    "\n",
    "## Perguntas\n",
    "\n",
    "1. Como representar graficamente meus dados?\n",
    "2. Como cutomizar a visualização dos meus dados?\n",
    "\n",
    "\n",
    "## Objetivos\n",
    "\n",
    "- Criar gráficos 1-2D\n",
    "- Customizar gráficos\n",
    "- Criar funções para plots complexos\n",
    "- Lendo meus dados\n",
    "- Gráfico de Barra (https://barbarplots.github.io/)\n",
    "- Representando graficamente uma Regressão Linear\n",
    "- Estudo de caso: Rosa dos Ventos"
   ]
  },
  {
   "cell_type": "markdown",
   "metadata": {
    "slideshow": {
     "slide_type": "slide"
    }
   },
   "source": [
    "Matplotlib é um pacote Python usado pela comunidade científica\n",
    "para produzir gráficos 2D.  Esse pacote suporta diversos formatos como PNG,\n",
    "JEPG, PostScript/EPS, PDF e SVG.\n",
    "\n",
    "Matplotlib traz um sub-pacote de conveniência chamado `pyplot` que, para manter\n",
    "a consistência com usuários do matplotlib, deve sempre ser importado como `plt`:"
   ]
  },
  {
   "cell_type": "code",
   "execution_count": null,
   "metadata": {
    "slideshow": {
     "slide_type": "fragment"
    }
   },
   "outputs": [],
   "source": [
    "%matplotlib inline\n",
    "\n",
    "\n",
    "import matplotlib.pyplot as plt"
   ]
  },
  {
   "cell_type": "markdown",
   "metadata": {},
   "source": [
    "## Anatomia de uma Figura"
   ]
  },
  {
   "cell_type": "code",
   "execution_count": null,
   "metadata": {},
   "outputs": [],
   "source": [
    "# %load anatomy.py\n",
    "\"\"\"\n",
    "===================\n",
    "Anatomy of a figure\n",
    "===================\n",
    "\n",
    "This figure shows the name of several matplotlib elements composing a figure\n",
    "\"\"\"\n",
    "\n",
    "import numpy as np\n",
    "import matplotlib.pyplot as plt\n",
    "from matplotlib.ticker import AutoMinorLocator, MultipleLocator, FuncFormatter\n",
    "\n",
    "np.random.seed(19680801)\n",
    "\n",
    "X = np.linspace(0.5, 3.5, 100)\n",
    "Y1 = 3+np.cos(X)\n",
    "Y2 = 1+np.cos(1+X/0.75)/2\n",
    "Y3 = np.random.uniform(Y1, Y2, len(X))\n",
    "\n",
    "fig = plt.figure(figsize=(8, 8))\n",
    "ax = fig.add_subplot(1, 1, 1, aspect=1)\n",
    "\n",
    "\n",
    "def minor_tick(x, pos):\n",
    "    if not x % 1.0:\n",
    "        return \"\"\n",
    "    return \"%.2f\" % x\n",
    "\n",
    "ax.xaxis.set_major_locator(MultipleLocator(1.000))\n",
    "ax.xaxis.set_minor_locator(AutoMinorLocator(4))\n",
    "ax.yaxis.set_major_locator(MultipleLocator(1.000))\n",
    "ax.yaxis.set_minor_locator(AutoMinorLocator(4))\n",
    "ax.xaxis.set_minor_formatter(FuncFormatter(minor_tick))\n",
    "\n",
    "ax.set_xlim(0, 4)\n",
    "ax.set_ylim(0, 4)\n",
    "\n",
    "ax.tick_params(which='major', width=1.0)\n",
    "ax.tick_params(which='major', length=10)\n",
    "ax.tick_params(which='minor', width=1.0, labelsize=10)\n",
    "ax.tick_params(which='minor', length=5, labelsize=10, labelcolor='0.25')\n",
    "\n",
    "ax.grid(linestyle=\"--\", linewidth=0.5, color='.25', zorder=-10)\n",
    "\n",
    "ax.plot(X, Y1, c=(0.25, 0.25, 1.00), lw=2, label=\"Blue signal\", zorder=10)\n",
    "ax.plot(X, Y2, c=(1.00, 0.25, 0.25), lw=2, label=\"Red signal\")\n",
    "ax.plot(X, Y3, linewidth=0,\n",
    "        marker='o', markerfacecolor='w', markeredgecolor='k')\n",
    "\n",
    "ax.set_title(\"Anatomy of a figure\", fontsize=20, verticalalignment='bottom')\n",
    "ax.set_xlabel(\"X axis label\")\n",
    "ax.set_ylabel(\"Y axis label\")\n",
    "\n",
    "ax.legend()\n",
    "\n",
    "\n",
    "def circle(x, y, radius=0.15):\n",
    "    from matplotlib.patches import Circle\n",
    "    from matplotlib.patheffects import withStroke\n",
    "    circle = Circle((x, y), radius, clip_on=False, zorder=10, linewidth=1,\n",
    "                    edgecolor='black', facecolor=(0, 0, 0, .0125),\n",
    "                    path_effects=[withStroke(linewidth=5, foreground='w')])\n",
    "    ax.add_artist(circle)\n",
    "\n",
    "\n",
    "def text(x, y, text):\n",
    "    ax.text(x, y, text, backgroundcolor=\"white\",\n",
    "            ha='center', va='top', weight='bold', color='blue')\n",
    "\n",
    "\n",
    "# Minor tick\n",
    "circle(0.50, -0.10)\n",
    "text(0.50, -0.32, \"Minor tick label\")\n",
    "\n",
    "# Major tick\n",
    "circle(-0.03, 4.00)\n",
    "text(0.03, 3.80, \"Major tick\")\n",
    "\n",
    "# Minor tick\n",
    "circle(0.00, 3.50)\n",
    "text(0.00, 3.30, \"Minor tick\")\n",
    "\n",
    "# Major tick label\n",
    "circle(-0.15, 3.00)\n",
    "text(-0.15, 2.80, \"Major tick label\")\n",
    "\n",
    "# X Label\n",
    "circle(1.80, -0.27)\n",
    "text(1.80, -0.45, \"X axis label\")\n",
    "\n",
    "# Y Label\n",
    "circle(-0.27, 1.80)\n",
    "text(-0.27, 1.6, \"Y axis label\")\n",
    "\n",
    "# Title\n",
    "circle(1.60, 4.13)\n",
    "text(1.60, 3.93, \"Title\")\n",
    "\n",
    "# Blue plot\n",
    "circle(1.75, 2.80)\n",
    "text(1.75, 2.60, \"Line\\n(line plot)\")\n",
    "\n",
    "# Red plot\n",
    "circle(1.20, 0.60)\n",
    "text(1.20, 0.40, \"Line\\n(line plot)\")\n",
    "\n",
    "# Scatter plot\n",
    "circle(3.20, 1.75)\n",
    "text(3.20, 1.55, \"Markers\\n(scatter plot)\")\n",
    "\n",
    "# Grid\n",
    "circle(3.00, 3.00)\n",
    "text(3.00, 2.80, \"Grid\")\n",
    "\n",
    "# Legend\n",
    "circle(3.70, 3.80)\n",
    "text(3.70, 3.60, \"Legend\")\n",
    "\n",
    "# Axes\n",
    "circle(0.5, 0.5)\n",
    "text(0.5, 0.3, \"Axes\")\n",
    "\n",
    "# Figure\n",
    "circle(-0.3, 0.65)\n",
    "text(-0.3, 0.45, \"Figure\")\n",
    "\n",
    "color = 'blue'\n",
    "ax.annotate('Spines', xy=(4.0, 0.35), xycoords='data',\n",
    "            xytext=(3.3, 0.5), textcoords='data',\n",
    "            weight='bold', color=color,\n",
    "            arrowprops=dict(arrowstyle='->',\n",
    "                            connectionstyle=\"arc3\",\n",
    "                            color=color))\n",
    "\n",
    "ax.annotate('', xy=(3.15, 0.0), xycoords='data',\n",
    "            xytext=(3.45, 0.45), textcoords='data',\n",
    "            weight='bold', color=color,\n",
    "            arrowprops=dict(arrowstyle='->',\n",
    "                            connectionstyle=\"arc3\",\n",
    "                            color=color))\n",
    "\n",
    "ax.text(4.0, -0.4, \"Made with http://matplotlib.org\",\n",
    "        fontsize=10, ha=\"right\", color='.5')\n",
    "\n",
    "plt.show()\n"
   ]
  },
  {
   "cell_type": "markdown",
   "metadata": {
    "slideshow": {
     "slide_type": "slide"
    }
   },
   "source": [
    "O coração de **todos** os gráficos é o objeto *figure*.  O objeto `Figure`\n",
    "está no pode ser desenhado em qualquer formato de saída ou apenas a tela."
   ]
  },
  {
   "cell_type": "code",
   "execution_count": null,
   "metadata": {
    "slideshow": {
     "slide_type": "fragment"
    }
   },
   "outputs": [],
   "source": [
    "fig = plt.figure()"
   ]
  },
  {
   "cell_type": "markdown",
   "metadata": {
    "slideshow": {
     "slide_type": "slide"
    }
   },
   "source": [
    "Sozinho o objeto `Figure` não é interessante.  Temos que \"desenhar\" algo nele.\n",
    "\n",
    "Os objetos de desenho do matplotlib são chamados de `Artists`.\n",
    "De longe o `Artists` mais útil é o `Axes` *artist*.\n",
    "\n",
    "\n",
    "O `Axes` *artist* representa o espaço dos dados (x, y)\n",
    "ou em caso de coordenadas polares (*r*, $\\theta$).\n",
    "Não há limite no número de `Artists` que podemos adicionar em uma figura.\n",
    "Vamos ver um exemplo."
   ]
  },
  {
   "cell_type": "code",
   "execution_count": null,
   "metadata": {
    "slideshow": {
     "slide_type": "slide"
    }
   },
   "outputs": [],
   "source": [
    "ax = plt.axes()"
   ]
  },
  {
   "cell_type": "markdown",
   "metadata": {},
   "source": [
    "Vamos checar a documentação e ver quais projeções implementadas para o `Axes` existe no `matplotlib`?"
   ]
  },
  {
   "cell_type": "code",
   "execution_count": null,
   "metadata": {},
   "outputs": [],
   "source": [
    "plt.axes??"
   ]
  },
  {
   "cell_type": "markdown",
   "metadata": {
    "slideshow": {
     "slide_type": "slide"
    }
   },
   "source": [
    "A maior parte do tempo você vai trabalhar com o objeto `Axes`.  A documentação\n",
    "é bem detalhada e recomendo a leitura, principalmente do método `plot`:\n",
    "\n",
    " * http://matplotlib.org/api/pyplot_summary.html\n",
    " * http://matplotlib.org/api/pyplot_api.html#matplotlib.pyplot.plot\n",
    " * http://matplotlib.org/api/axes_api.html?#matplotlib.axes.Axes.plot"
   ]
  },
  {
   "cell_type": "code",
   "execution_count": null,
   "metadata": {
    "slideshow": {
     "slide_type": "slide"
    }
   },
   "outputs": [],
   "source": [
    "fig = plt.figure()\n",
    "ax = plt.axes()\n",
    "\n",
    "x = [0, 1, 2, 1.5]\n",
    "y = [3, 1, 2, 4]\n",
    "\n",
    "line = ax.plot(x, y)"
   ]
  },
  {
   "cell_type": "markdown",
   "metadata": {},
   "source": [
    "ou"
   ]
  },
  {
   "cell_type": "code",
   "execution_count": null,
   "metadata": {},
   "outputs": [],
   "source": [
    "fig, ax = plt.subplots()\n",
    "\n",
    "line = ax.plot(x, y)"
   ]
  },
  {
   "cell_type": "markdown",
   "metadata": {},
   "source": [
    "### Exercício 00: customização\n",
    "\n",
    "- altere o plot acima para ser apenas pontos\n",
    "- mude o tipo de linha\n",
    "- altere cores\n",
    "- faça plot de pontos usando o `scatter`"
   ]
  },
  {
   "cell_type": "code",
   "execution_count": null,
   "metadata": {},
   "outputs": [],
   "source": [
    "# %load exe00.py"
   ]
  },
  {
   "cell_type": "markdown",
   "metadata": {
    "slideshow": {
     "slide_type": "slide"
    }
   },
   "source": [
    "## Outros tipos de gráficos"
   ]
  },
  {
   "cell_type": "code",
   "execution_count": null,
   "metadata": {
    "slideshow": {
     "slide_type": "slide"
    }
   },
   "outputs": [],
   "source": [
    "import numpy as np\n",
    "\n",
    "\n",
    "x = np.linspace(-180, 180, 60)\n",
    "y = np.linspace(-90, 90, 30)\n",
    "x2d, y2d = np.meshgrid(x, y)\n",
    "\n",
    "data = np.cos(3 * np.deg2rad(x2d)) + np.sin(2 * np.deg2rad(y2d))"
   ]
  },
  {
   "cell_type": "markdown",
   "metadata": {},
   "source": [
    "### filled contour"
   ]
  },
  {
   "cell_type": "code",
   "execution_count": null,
   "metadata": {
    "slideshow": {
     "slide_type": "slide"
    }
   },
   "outputs": [],
   "source": [
    "plt.contourf(x, y, data)"
   ]
  },
  {
   "cell_type": "markdown",
   "metadata": {},
   "source": [
    "### Show image"
   ]
  },
  {
   "cell_type": "code",
   "execution_count": null,
   "metadata": {
    "slideshow": {
     "slide_type": "slide"
    }
   },
   "outputs": [],
   "source": [
    "plt.imshow(\n",
    "    data,\n",
    "    extent=[-180, 180, -90, 90],\n",
    "    interpolation='nearest',\n",
    "    origin='lower'\n",
    ")"
   ]
  },
  {
   "cell_type": "code",
   "execution_count": null,
   "metadata": {
    "slideshow": {
     "slide_type": "slide"
    }
   },
   "outputs": [],
   "source": [
    "plt.pcolormesh(x, y, data)"
   ]
  },
  {
   "cell_type": "code",
   "execution_count": null,
   "metadata": {
    "slideshow": {
     "slide_type": "slide"
    }
   },
   "outputs": [],
   "source": [
    "plt.scatter(x2d, y2d, c=data, s=15)"
   ]
  },
  {
   "cell_type": "code",
   "execution_count": null,
   "metadata": {
    "slideshow": {
     "slide_type": "slide"
    }
   },
   "outputs": [],
   "source": [
    "plt.bar(x, data.sum(axis=0), width=np.diff(x)[0])"
   ]
  },
  {
   "cell_type": "code",
   "execution_count": null,
   "metadata": {
    "slideshow": {
     "slide_type": "slide"
    }
   },
   "outputs": [],
   "source": [
    "plt.plot(\n",
    "    x,\n",
    "    data.sum(axis=0),\n",
    "    linestyle='--',\n",
    "    marker='d',\n",
    "    markersize=10,\n",
    "    color='red'\n",
    ")"
   ]
  },
  {
   "cell_type": "markdown",
   "metadata": {
    "slideshow": {
     "slide_type": "slide"
    }
   },
   "source": [
    "# Títulos, Legendas, colorbars e outras anotações"
   ]
  },
  {
   "cell_type": "code",
   "execution_count": null,
   "metadata": {
    "slideshow": {
     "slide_type": "slide"
    }
   },
   "outputs": [],
   "source": [
    "fig, ax = plt.subplots()\n",
    "fig.subplots_adjust(top=0.8)\n",
    "\n",
    "fig.suptitle('Título do \"Figure\"', fontsize=18, fontweight='bold')\n",
    "ax.set_title('Título do \"Axes', fontsize=16)\n",
    "ax.set_xlabel('O eixo X')\n",
    "ax.set_ylabel('O eixo Y $y=f(x)$', fontsize=16)\n",
    "ax.text(\n",
    "    0.5, 0.5,\n",
    "    'Texto centrado em (0.5, 0.5)\\nin data coordinates.',\n",
    "    horizontalalignment='center',\n",
    "    fontsize=14\n",
    ");"
   ]
  },
  {
   "cell_type": "markdown",
   "metadata": {},
   "source": [
    "### Exercício 01: adicione `x` e `y` label.\n",
    "### Sem título! Figura não tem título!! (A não ser que seja para slide.)"
   ]
  },
  {
   "cell_type": "code",
   "execution_count": null,
   "metadata": {
    "slideshow": {
     "slide_type": "slide"
    }
   },
   "outputs": [],
   "source": [
    "x = np.linspace(-3, 7, 200)\n",
    "\n",
    "\n",
    "fig, ax = plt.subplots()\n",
    "\n",
    "ax.plot(\n",
    "    x, 0.5*x**3 - 3*x**2,\n",
    "    linewidth=2,\n",
    "    label='$f(x)=0.5x^2-3x^2$'\n",
    ")\n",
    "\n",
    "ax.plot(\n",
    "    x, 1.5*x**2 - 6*x,\n",
    "    linewidth=2,\n",
    "    linestyle='--',\n",
    "    label='Gradiente de $f(x)$', \n",
    ")\n",
    "\n",
    "\n",
    "ax.legend(loc='lower right')\n",
    "ax.grid(True)"
   ]
  },
  {
   "cell_type": "markdown",
   "metadata": {},
   "source": [
    "### Colorbar"
   ]
  },
  {
   "cell_type": "code",
   "execution_count": null,
   "metadata": {
    "slideshow": {
     "slide_type": "slide"
    }
   },
   "outputs": [],
   "source": [
    "x = np.linspace(-180, 180, 60)\n",
    "y = np.linspace(-90, 90, 30)\n",
    "x2d, y2d = np.meshgrid(x, y)\n",
    "data = np.cos(3 * np.deg2rad(x2d)) + np.sin(2 * np.deg2rad(y2d))\n",
    "\n",
    "fig, ax = plt.subplots()\n",
    "\n",
    "cs = ax.contourf(x, y, data)\n",
    "fig.colorbar(cs, orientation='horizontal')"
   ]
  },
  {
   "cell_type": "markdown",
   "metadata": {},
   "source": [
    "### Exercício 03: mude o formato e posição da colorbar."
   ]
  },
  {
   "cell_type": "code",
   "execution_count": null,
   "metadata": {},
   "outputs": [],
   "source": [
    "# %load exe03.py"
   ]
  },
  {
   "cell_type": "markdown",
   "metadata": {},
   "source": [
    "### Anotações com setas"
   ]
  },
  {
   "cell_type": "code",
   "execution_count": null,
   "metadata": {
    "slideshow": {
     "slide_type": "slide"
    }
   },
   "outputs": [],
   "source": [
    "x = np.linspace(-3, 7, 200)\n",
    "\n",
    "fig, ax = plt.subplots()\n",
    "\n",
    "ax.plot(\n",
    "    x, 0.5*x**3 - 3*x**2,\n",
    "    linewidth=2\n",
    ")\n",
    "\n",
    "ax.annotate(\n",
    "    'Mínimo local',\n",
    "    xy=(4, -18),\n",
    "    xytext=(-2, -40),\n",
    "    fontsize=15,\n",
    "    arrowprops={'facecolor': 'black'}\n",
    ")\n",
    "\n",
    "ax.grid(True)"
   ]
  },
  {
   "cell_type": "markdown",
   "metadata": {},
   "source": [
    "### Exercício 04: mude para o máximo local"
   ]
  },
  {
   "cell_type": "code",
   "execution_count": null,
   "metadata": {},
   "outputs": [],
   "source": [
    "# %load exe04.py"
   ]
  },
  {
   "cell_type": "code",
   "execution_count": null,
   "metadata": {
    "slideshow": {
     "slide_type": "slide"
    }
   },
   "outputs": [],
   "source": [
    "plt.plot(range(10))\n",
    "\n",
    "plt.savefig('simple.svg')"
   ]
  },
  {
   "cell_type": "code",
   "execution_count": null,
   "metadata": {
    "slideshow": {
     "slide_type": "slide"
    }
   },
   "outputs": [],
   "source": [
    "from IPython.display import SVG\n",
    "\n",
    "SVG('simple.svg')"
   ]
  },
  {
   "cell_type": "markdown",
   "metadata": {},
   "source": [
    "### Exercício 05: salve em outro formato e tente abrir a figura no seu laptop."
   ]
  },
  {
   "cell_type": "markdown",
   "metadata": {
    "slideshow": {
     "slide_type": "slide"
    }
   },
   "source": [
    "## Exemplo com dados reais"
   ]
  },
  {
   "cell_type": "code",
   "execution_count": null,
   "metadata": {},
   "outputs": [],
   "source": [
    "# plt.savefig('simple.svg')"
   ]
  },
  {
   "cell_type": "code",
   "execution_count": null,
   "metadata": {},
   "outputs": [],
   "source": [
    "!head -n 3 data/dados_pirata.csv"
   ]
  },
  {
   "cell_type": "code",
   "execution_count": null,
   "metadata": {
    "slideshow": {
     "slide_type": "fragment"
    }
   },
   "outputs": [],
   "source": [
    "from pathlib import Path\n",
    "import numpy as np\n",
    "import numpy.ma as ma\n",
    "\n",
    "\n",
    "data = np.loadtxt(\n",
    "    Path('data', 'dados_pirata.csv'),\n",
    "    skiprows=1,\n",
    "    usecols=range(2, 16),\n",
    "    delimiter=','\n",
    ")\n",
    "\n",
    "data = ma.masked_less_equal(data, -9999)"
   ]
  },
  {
   "cell_type": "code",
   "execution_count": null,
   "metadata": {},
   "outputs": [],
   "source": [
    "data.shape"
   ]
  },
  {
   "cell_type": "code",
   "execution_count": null,
   "metadata": {
    "slideshow": {
     "slide_type": "slide"
    }
   },
   "outputs": [],
   "source": [
    "plt.pcolormesh(data);"
   ]
  },
  {
   "cell_type": "code",
   "execution_count": null,
   "metadata": {
    "slideshow": {
     "slide_type": "slide"
    }
   },
   "outputs": [],
   "source": [
    "fig, ax = plt.subplots(figsize=(12.5, 5))\n",
    "\n",
    "cs = ax.pcolormesh(data.T)\n",
    "\n",
    "fig.colorbar(cs, extend='both');"
   ]
  },
  {
   "cell_type": "code",
   "execution_count": null,
   "metadata": {
    "slideshow": {
     "slide_type": "slide"
    }
   },
   "outputs": [],
   "source": [
    "z = [1, 10, 100, 120, 13, 140, 180, 20, 300, 40, 5, 500, 60, 80]\n",
    "\n",
    "fig, ax = plt.subplots()\n",
    "ax.plot(data[42, :], z, 'ko')\n",
    "ax.invert_yaxis()"
   ]
  },
  {
   "cell_type": "markdown",
   "metadata": {},
   "source": [
    "### Exercício 06: repita o gráfico acima ligando as linhas"
   ]
  },
  {
   "cell_type": "code",
   "execution_count": null,
   "metadata": {},
   "outputs": [],
   "source": [
    "# fig, ax = plt.subplots()\n",
    "# ax.plot(data[42, :], z, 'ko')\n",
    "# ax.invert_yaxis()"
   ]
  },
  {
   "cell_type": "code",
   "execution_count": null,
   "metadata": {
    "slideshow": {
     "slide_type": "slide"
    }
   },
   "outputs": [],
   "source": [
    "fig, ax = plt.subplots(figsize=(9, 3))\n",
    "\n",
    "ax.plot(data[:, 0])\n",
    "\n",
    "ax.set_xlabel(\"Tempo\")\n",
    "ax.set_ylabel(\"Temperatura\")\n",
    "ax.set_title(\"Série-temporal PIRATA\");"
   ]
  },
  {
   "cell_type": "code",
   "execution_count": null,
   "metadata": {
    "slideshow": {
     "slide_type": "slide"
    }
   },
   "outputs": [],
   "source": [
    "def plot_ts(data):\n",
    "    fig, ax = plt.subplots(figsize=(9, 3))\n",
    "\n",
    "    ax.plot(data)\n",
    "    ax.set_xlabel(\"Tempo\")\n",
    "    ax.set_ylabel(\"Temperatura\")\n",
    "    ax.set_title(\"Série-temporal PIRATA\")"
   ]
  },
  {
   "cell_type": "code",
   "execution_count": null,
   "metadata": {
    "slideshow": {
     "slide_type": "fragment"
    }
   },
   "outputs": [],
   "source": [
    "plot_ts(data)"
   ]
  },
  {
   "cell_type": "code",
   "execution_count": null,
   "metadata": {
    "slideshow": {
     "slide_type": "slide"
    }
   },
   "outputs": [],
   "source": [
    "from matplotlib import style\n",
    "\n",
    "style.available"
   ]
  },
  {
   "cell_type": "code",
   "execution_count": null,
   "metadata": {
    "slideshow": {
     "slide_type": "slide"
    }
   },
   "outputs": [],
   "source": [
    "with style.context('dark_background'):\n",
    "    plot_ts(data[:, 0])"
   ]
  },
  {
   "cell_type": "code",
   "execution_count": null,
   "metadata": {
    "slideshow": {
     "slide_type": "slide"
    }
   },
   "outputs": [],
   "source": [
    "with style.context('ggplot'):\n",
    "    plot_ts(data[:, 0])"
   ]
  },
  {
   "cell_type": "code",
   "execution_count": null,
   "metadata": {
    "slideshow": {
     "slide_type": "slide"
    }
   },
   "outputs": [],
   "source": [
    "with style.context('seaborn-poster'):\n",
    "    n, bins, pathes = plt.hist(data[0, :])"
   ]
  },
  {
   "cell_type": "code",
   "execution_count": null,
   "metadata": {
    "slideshow": {
     "slide_type": "slide"
    }
   },
   "outputs": [],
   "source": [
    "idx = 0\n",
    "mask = data.mask[:, 0]\n",
    "\n",
    "with style.context('grayscale'):\n",
    "    n, bins, pathes = plt.hist(data[:, 0].data[~mask], bins=10)"
   ]
  },
  {
   "cell_type": "code",
   "execution_count": null,
   "metadata": {
    "slideshow": {
     "slide_type": "slide"
    }
   },
   "outputs": [],
   "source": [
    "idx = 12\n",
    "\n",
    "mask = data.mask[:, idx]\n",
    "\n",
    "n = plt.hist(data[:, idx].data[~mask], bins=30)"
   ]
  },
  {
   "cell_type": "markdown",
   "metadata": {},
   "source": [
    "# Um exemplo complexo de anotações e customizações"
   ]
  },
  {
   "cell_type": "code",
   "execution_count": null,
   "metadata": {
    "slideshow": {
     "slide_type": "skip"
    }
   },
   "outputs": [],
   "source": [
    "def make_wave():\n",
    "    twopi = 2 * np.pi\n",
    "    n = 2\n",
    "    A = 2\n",
    "    w = twopi / 10\n",
    "    k = twopi / 200\n",
    "    phi = np.deg2rad(180)\n",
    "    t = np.arange(0, 10 * n, 0.01)\n",
    "    y = A * np.cos(w * t - k * 0 + phi)\n",
    "\n",
    "    fig, ax = plt.subplots(figsize=(8, 4))\n",
    "    ax.plot(t, y, linewidth='2', color='#006633')\n",
    "    ax.set_frame_on(False)\n",
    "    ax.axis([-0.1, 20.1, -3, 3])\n",
    "    ax.get_xaxis().set_ticks([])\n",
    "    ax.get_yaxis().set_ticks([])\n",
    "\n",
    "    # Box.\n",
    "    kw = dict(linestyle='--', color='grey', zorder=90)\n",
    "    ax.axhline(y=2, xmin=0.15, xmax=0.85, **kw)\n",
    "    ax.axhline(y=-2, xmin=0.15, xmax=0.85, **kw)\n",
    "    ax.axvline(x=5, ymin=-0.15, ymax=1.85, **kw)\n",
    "    ax.axvline(x=15, ymin=-0.15, ymax=1.85, **kw)\n",
    "\n",
    "    # Zero line.\n",
    "    ax.annotate('', xy=(20, 0), xycoords='data',\n",
    "                xytext=(0, 0), textcoords='data',\n",
    "                arrowprops=dict(arrowstyle='->', color='black'))\n",
    "\n",
    "    ax.annotate('Espaço', xy=(20, 0), xycoords='data',\n",
    "                xytext=(20, 0.05), textcoords='data', \n",
    "                va='bottom', ha='right', color='blue')\n",
    "\n",
    "    ax.annotate('Tempo', xy=(20, 0), xycoords='data',\n",
    "                xytext=(20, -0.05), textcoords='data', \n",
    "                va='top', ha='right', color='red')\n",
    "\n",
    "    # Arrow commom properties.\n",
    "    arrowprops = dict(arrowstyle='<->', color='black')\n",
    "\n",
    "    # Wave period (or length).\n",
    "    ax.annotate('', xy=(15, 2.5), xycoords='data',\n",
    "                xytext=(5, 2.5), textcoords='data',\n",
    "                arrowprops=arrowprops)\n",
    "\n",
    "    ax.annotate('Comprimento', xy=(10, 2.5), xycoords='data',\n",
    "                xytext=(10, 2.55), textcoords='data', \n",
    "                va='bottom', ha='center', color='blue')\n",
    "\n",
    "    ax.annotate('Período', xy=(10, 2.5), xycoords='data',\n",
    "                xytext=(10, 2.45), textcoords='data', \n",
    "                va='top', ha='center', color='red')\n",
    "\n",
    "    # Amplitude.\n",
    "    ax.annotate('', xy=(5, 2), xycoords='data',\n",
    "                xytext=(5, 0), textcoords='data',\n",
    "                arrowprops=arrowprops)\n",
    "\n",
    "    ax.annotate('Amplitude', xy=(5, 1), xycoords='data',\n",
    "                xytext=(4.9, 1), textcoords='data', \n",
    "                va='center', ha='right', rotation=90)\n",
    "\n",
    "    # Height.\n",
    "    ax.annotate('', xy=(15, 2), xycoords='data',\n",
    "                xytext=(15, -2), textcoords='data',\n",
    "                arrowprops=arrowprops)\n",
    "\n",
    "    ax.annotate('Altura', xy=(15, 1), xycoords='data',\n",
    "                xytext=(14.9, 0.1), textcoords='data', \n",
    "                va='bottom', ha='right', rotation=90)\n",
    "\n",
    "    # Angle.\n",
    "    ax.annotate('', xy=(15, 2), xycoords='data',\n",
    "                xytext=(5, -2), textcoords='data',\n",
    "                arrowprops=arrowprops)\n",
    "\n",
    "    ax.annotate('Inclinação', xy=(10, 0), xycoords='data',\n",
    "                xytext=(10.5, 0.5), textcoords='data', \n",
    "                va='center', ha='center', rotation=35)"
   ]
  },
  {
   "cell_type": "code",
   "execution_count": null,
   "metadata": {
    "slideshow": {
     "slide_type": "slide"
    }
   },
   "outputs": [],
   "source": [
    "make_wave()"
   ]
  },
  {
   "cell_type": "code",
   "execution_count": null,
   "metadata": {
    "slideshow": {
     "slide_type": "slide"
    }
   },
   "outputs": [],
   "source": [
    "from IPython.display import IFrame\n",
    "\n",
    "url = \"https://matplotlib.org/gallery.html\"\n",
    "\n",
    "IFrame(url, width=900, height=500)"
   ]
  },
  {
   "cell_type": "markdown",
   "metadata": {
    "slideshow": {
     "slide_type": "slide"
    }
   },
   "source": [
    "### Exercício 07: manipulando os dados da bóia pirata\n",
    "\n",
    "- 1) Plotar dois perfis verticais lado a lado e compartilhando o eixo `y`.  Dica: use o método `plt.subplots()`\n",
    "\n",
    "- 2) Plotar as séries temporais, superfície e fundo, alinhadas verticalmente  e compartilhando o eixo `x`\n",
    "\n",
    "- 3) Perfil vertical médio para todo o período"
   ]
  },
  {
   "cell_type": "code",
   "execution_count": null,
   "metadata": {
    "slideshow": {
     "slide_type": "fragment"
    }
   },
   "outputs": [],
   "source": [
    "# %load exe07a.py"
   ]
  },
  {
   "cell_type": "code",
   "execution_count": null,
   "metadata": {
    "slideshow": {
     "slide_type": "fragment"
    }
   },
   "outputs": [],
   "source": [
    "# %load exe07b.py"
   ]
  },
  {
   "cell_type": "code",
   "execution_count": null,
   "metadata": {},
   "outputs": [],
   "source": [
    "# %load exe07c.py"
   ]
  },
  {
   "cell_type": "markdown",
   "metadata": {},
   "source": [
    "- http://www.labri.fr/perso/nrougier/teaching/matplotlib/matplotlib.html\n",
    "- https://www.machinelearningplus.com/plots/top-50-matplotlib-visualizations-the-master-plots-python/\n",
    "- https://serialmentor.com/dataviz/index.html\n",
    "- https://www.machinelearningplus.com/plots/matplotlib-tutorial-complete-guide-python-plot-examples/"
   ]
  },
  {
   "cell_type": "markdown",
   "metadata": {},
   "source": [
    "### Bônus: animações"
   ]
  },
  {
   "cell_type": "code",
   "execution_count": null,
   "metadata": {},
   "outputs": [],
   "source": [
    "%matplotlib notebook"
   ]
  },
  {
   "cell_type": "code",
   "execution_count": null,
   "metadata": {},
   "outputs": [],
   "source": [
    "import animatplot as amp\n",
    "\n",
    "\n",
    "x = np.linspace(0, 1, 50)\n",
    "t = np.linspace(0, 1, 20)\n",
    "\n",
    "X, T = np.meshgrid(x, t)\n",
    "Y = np.sin(2*np.pi * (X+T))\n",
    "\n",
    "block = amp.blocks.Line(X, Y)\n",
    "anim = amp.Animation([block])\n",
    "\n",
    "anim.controls()\n",
    "anim.save_gif('line')"
   ]
  },
  {
   "cell_type": "code",
   "execution_count": null,
   "metadata": {
    "code_folding": []
   },
   "outputs": [],
   "source": [
    "from matplotlib.animation import FuncAnimation\n",
    "\n",
    "\n",
    "def aliasanim(n=300, nper=2):\n",
    "    \"\"\"Function that shows an animation of the aliasing problem.\n",
    "    It samples a cosine function with increasing time steps.\n",
    "    n: number of initial sampling points per period of the signal\n",
    "    nper: number of periods shown for the real signal (suggested: n=300, nper=2)\n",
    "    when launched, the sampling frequency is decreased.\"\"\"\n",
    "\n",
    "    twopi = 2 * np.pi\n",
    "    k = np.arange(0, nper * n)\n",
    "    # Initial signal, nicely sampled if n is large.\n",
    "    # di = omega Delta t\n",
    "    di = twopi / (nper*n) * nper\n",
    "    t = di * k\n",
    "    z = np.cos(t)\n",
    "\n",
    "    fig = plt.figure()\n",
    "    ax = plt.axes(xlim=(0, twopi*nper), ylim=(-1, 1))\n",
    "\n",
    "    # Non-animated.\n",
    "    ax.plot(t, z, 'k')\n",
    "    ax.set_xlabel(r'$\\omega t$')\n",
    "\n",
    "    # Animated.\n",
    "    line, = ax.plot([], [], 'k:o', alpha=0.5)\n",
    "    text = ax.text(1, 1.05, '')\n",
    "    line.set_data([], [])\n",
    "\n",
    "    def init():\n",
    "        return line, text\n",
    "\n",
    "    def animate(i):\n",
    "        # Create a sampling (ts and zs) with decreasing frequency.\n",
    "        ts, zs = [], []\n",
    "        di = twopi / (nper*n) * nper * i\n",
    "        ts = di * k\n",
    "        zs = np.cos(ts)\n",
    "        line.set_data(ts, zs)\n",
    "        if di / np.pi< 1:\n",
    "            text.set_text(r'$\\omega$ $\\Delta t / \\pi$ = %1.3f : no aliasing' % (di/np.pi))\n",
    "        else:\n",
    "            text.set_text(r'$\\omega$ $\\Delta t / \\pi$ = %1.3f : ALIASING' % (di/np.pi))\n",
    "        return line, text\n",
    "\n",
    "    return FuncAnimation(fig, animate, init_func=init,\n",
    "                                   frames=n, interval=100)\n",
    "\n",
    "aliasanim(n=300, nper=2)"
   ]
  }
 ],
 "metadata": {
  "kernelspec": {
   "display_name": "Python 3",
   "language": "python",
   "name": "python3"
  },
  "language_info": {
   "codemirror_mode": {
    "name": "ipython",
    "version": 3
   },
   "file_extension": ".py",
   "mimetype": "text/x-python",
   "name": "python",
   "nbconvert_exporter": "python",
   "pygments_lexer": "ipython3",
   "version": "3.7.1"
  }
 },
 "nbformat": 4,
 "nbformat_minor": 1
}
